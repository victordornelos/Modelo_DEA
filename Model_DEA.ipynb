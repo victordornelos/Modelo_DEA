{
 "cells": [
  {
   "cell_type": "code",
   "execution_count": null,
   "id": "5f607c64",
   "metadata": {},
   "outputs": [],
   "source": [
    "# Esse codigo é um exemplo de como criar um ambiente virtual e instalar dependências em Python.\n",
    "#pip install -r requirements.txt"
   ]
  },
  {
   "cell_type": "markdown",
   "id": "64856252",
   "metadata": {},
   "source": [
    "## Organizando os dados e bibliotecas "
   ]
  },
  {
   "cell_type": "code",
   "execution_count": 30,
   "id": "eed0c9fc",
   "metadata": {},
   "outputs": [],
   "source": [
    "# Bibliotecas necessárias\n",
    "import pandas as pd\n",
    "import json\n",
    "import cvxpy as cp\n"
   ]
  },
  {
   "cell_type": "code",
   "execution_count": 31,
   "id": "fc39190b",
   "metadata": {},
   "outputs": [],
   "source": [
    "df = pd.read_excel('Data.xlsx')"
   ]
  },
  {
   "cell_type": "code",
   "execution_count": 34,
   "id": "3bb9c029",
   "metadata": {},
   "outputs": [],
   "source": [
    "# Caminho do arquivo Excel\n",
    "excel_path = 'Data.xlsx'\n",
    "\n",
    "# Carregar a planilha\n",
    "df = pd.read_excel(excel_path)\n",
    "df.columns = df.columns.str.strip()\n",
    "\n",
    "# 🔁 ORDENAR antes de numerar\n",
    "df = df.sort_values('Banco').reset_index(drop=True)\n",
    "\n",
    "# Gerar número incremental por banco\n",
    "df['numero'] = df.groupby('Banco').cumcount() + 1\n",
    "df['DMU'] = df['Banco'] + '_' + df['numero'].astype(str).str.zfill(2)\n",
    "\n",
    "# Selecionar colunas no formato DEA\n",
    "df_dea = df[[\n",
    "    'DMU',\n",
    "    'Despesa de Intermediação Financeira',\n",
    "    'Despesa Administrativa e Operacionais',\n",
    "    'Receita de Intermediação Financeira',\n",
    "    'Receita com prestação de serviços',\n",
    "    'Outras receitas operacionais'\n",
    "]]\n"
   ]
  },
  {
   "cell_type": "code",
   "execution_count": 36,
   "id": "9162c832",
   "metadata": {},
   "outputs": [],
   "source": [
    "# Salvar em CSV\n",
    "df_dea.to_csv('dados_dea.csv', index=False)"
   ]
  },
  {
   "cell_type": "markdown",
   "id": "16fce479",
   "metadata": {},
   "source": [
    "## MODELO 1 - DEA CONSTANTE DE ESCALA MINIMIZANDO AS DESPESAS"
   ]
  },
  {
   "cell_type": "code",
   "execution_count": 37,
   "id": "3654288a",
   "metadata": {},
   "outputs": [],
   "source": [
    "# Carrega os dados do CSV\n",
    "df = pd.read_csv(\"dados_dea.csv\")"
   ]
  },
  {
   "cell_type": "code",
   "execution_count": 38,
   "id": "b89a879f",
   "metadata": {},
   "outputs": [],
   "source": [
    "# Definir inputs e outputs\n",
    "inputs = [\n",
    "    \"Despesa de Intermediação Financeira\",\n",
    "    \"Despesa Administrativa e Operacionais\"\n",
    "]\n",
    "outputs = [\n",
    "    \"Receita de Intermediação Financeira\",\n",
    "    \"Receita com prestação de serviços\",\n",
    "    \"Outras receitas operacionais\"\n",
    "]"
   ]
  },
  {
   "cell_type": "code",
   "execution_count": 39,
   "id": "6094937e",
   "metadata": {},
   "outputs": [],
   "source": [
    "# Corrigir: tornar os inputs positivos\n",
    "df[inputs] = df[inputs].abs()\n",
    "\n",
    "# (Opcional) Reduzir escala para facilitar o cálculo numérico\n",
    "df[inputs + outputs] = df[inputs + outputs] / 1e6"
   ]
  },
  {
   "cell_type": "code",
   "execution_count": 40,
   "id": "e5851f66",
   "metadata": {},
   "outputs": [],
   "source": [
    "# Extrair as matrizes para o modelo DEA\n",
    "X = df[inputs].values\n",
    "Y = df[outputs].values\n",
    "n = X.shape[0]"
   ]
  },
  {
   "cell_type": "code",
   "execution_count": 41,
   "id": "bd3ec51b",
   "metadata": {},
   "outputs": [],
   "source": [
    "efficiencies = []\n",
    "\n",
    "for j in range(n):\n",
    "    lambdas = cp.Variable(n, nonneg=True)\n",
    "    theta = cp.Variable()\n",
    "\n",
    "    constraints = [\n",
    "        X.T @ lambdas <= theta * X[j],\n",
    "        Y.T @ lambdas >= Y[j],\n",
    "        cp.sum(lambdas) == 1\n",
    "    ]\n",
    "\n",
    "    problem = cp.Problem(cp.Minimize(theta), constraints)\n",
    "    problem.solve()\n",
    "\n",
    "    value = float(theta.value) if theta.value is not None else None\n",
    "    efficiencies.append(round(value, 4) if value is not None else None)"
   ]
  },
  {
   "cell_type": "code",
   "execution_count": 42,
   "id": "5d4e41b1",
   "metadata": {},
   "outputs": [
    {
     "data": {
      "text/html": [
       "<div>\n",
       "<style scoped>\n",
       "    .dataframe tbody tr th:only-of-type {\n",
       "        vertical-align: middle;\n",
       "    }\n",
       "\n",
       "    .dataframe tbody tr th {\n",
       "        vertical-align: top;\n",
       "    }\n",
       "\n",
       "    .dataframe thead th {\n",
       "        text-align: right;\n",
       "    }\n",
       "</style>\n",
       "<table border=\"1\" class=\"dataframe\">\n",
       "  <thead>\n",
       "    <tr style=\"text-align: right;\">\n",
       "      <th></th>\n",
       "      <th>DMU</th>\n",
       "      <th>Eficiência DEA (CRS Input-oriented)</th>\n",
       "    </tr>\n",
       "  </thead>\n",
       "  <tbody>\n",
       "    <tr>\n",
       "      <th>0</th>\n",
       "      <td>BB_01</td>\n",
       "      <td>1.0000</td>\n",
       "    </tr>\n",
       "    <tr>\n",
       "      <th>1</th>\n",
       "      <td>BB_02</td>\n",
       "      <td>0.9772</td>\n",
       "    </tr>\n",
       "    <tr>\n",
       "      <th>2</th>\n",
       "      <td>BB_03</td>\n",
       "      <td>1.0000</td>\n",
       "    </tr>\n",
       "    <tr>\n",
       "      <th>3</th>\n",
       "      <td>BB_04</td>\n",
       "      <td>1.0000</td>\n",
       "    </tr>\n",
       "    <tr>\n",
       "      <th>4</th>\n",
       "      <td>BB_05</td>\n",
       "      <td>1.0000</td>\n",
       "    </tr>\n",
       "    <tr>\n",
       "      <th>5</th>\n",
       "      <td>BB_06</td>\n",
       "      <td>1.0000</td>\n",
       "    </tr>\n",
       "    <tr>\n",
       "      <th>6</th>\n",
       "      <td>Itaú_01</td>\n",
       "      <td>0.9199</td>\n",
       "    </tr>\n",
       "    <tr>\n",
       "      <th>7</th>\n",
       "      <td>Itaú_02</td>\n",
       "      <td>0.9445</td>\n",
       "    </tr>\n",
       "    <tr>\n",
       "      <th>8</th>\n",
       "      <td>Itaú_03</td>\n",
       "      <td>1.0000</td>\n",
       "    </tr>\n",
       "    <tr>\n",
       "      <th>9</th>\n",
       "      <td>Itaú_04</td>\n",
       "      <td>0.9297</td>\n",
       "    </tr>\n",
       "    <tr>\n",
       "      <th>10</th>\n",
       "      <td>Itaú_05</td>\n",
       "      <td>0.9252</td>\n",
       "    </tr>\n",
       "    <tr>\n",
       "      <th>11</th>\n",
       "      <td>Itaú_06</td>\n",
       "      <td>0.8433</td>\n",
       "    </tr>\n",
       "    <tr>\n",
       "      <th>12</th>\n",
       "      <td>Santander_01</td>\n",
       "      <td>1.0000</td>\n",
       "    </tr>\n",
       "    <tr>\n",
       "      <th>13</th>\n",
       "      <td>Santander_02</td>\n",
       "      <td>1.0000</td>\n",
       "    </tr>\n",
       "    <tr>\n",
       "      <th>14</th>\n",
       "      <td>Santander_03</td>\n",
       "      <td>0.9726</td>\n",
       "    </tr>\n",
       "    <tr>\n",
       "      <th>15</th>\n",
       "      <td>Santander_04</td>\n",
       "      <td>1.0000</td>\n",
       "    </tr>\n",
       "    <tr>\n",
       "      <th>16</th>\n",
       "      <td>Santander_05</td>\n",
       "      <td>1.0000</td>\n",
       "    </tr>\n",
       "    <tr>\n",
       "      <th>17</th>\n",
       "      <td>Santander_06</td>\n",
       "      <td>1.0000</td>\n",
       "    </tr>\n",
       "  </tbody>\n",
       "</table>\n",
       "</div>"
      ],
      "text/plain": [
       "             DMU  Eficiência DEA (CRS Input-oriented)\n",
       "0          BB_01                               1.0000\n",
       "1          BB_02                               0.9772\n",
       "2          BB_03                               1.0000\n",
       "3          BB_04                               1.0000\n",
       "4          BB_05                               1.0000\n",
       "5          BB_06                               1.0000\n",
       "6        Itaú_01                               0.9199\n",
       "7        Itaú_02                               0.9445\n",
       "8        Itaú_03                               1.0000\n",
       "9        Itaú_04                               0.9297\n",
       "10       Itaú_05                               0.9252\n",
       "11       Itaú_06                               0.8433\n",
       "12  Santander_01                               1.0000\n",
       "13  Santander_02                               1.0000\n",
       "14  Santander_03                               0.9726\n",
       "15  Santander_04                               1.0000\n",
       "16  Santander_05                               1.0000\n",
       "17  Santander_06                               1.0000"
      ]
     },
     "execution_count": 42,
     "metadata": {},
     "output_type": "execute_result"
    }
   ],
   "source": [
    "# Resultados\n",
    "df_resultado = pd.DataFrame({\n",
    "    \"DMU\": df[\"DMU\"],\n",
    "    \"Eficiência DEA (CRS Input-oriented)\": efficiencies\n",
    "})\n",
    "df_resultado"
   ]
  },
  {
   "cell_type": "code",
   "execution_count": 43,
   "id": "954ad933",
   "metadata": {},
   "outputs": [
    {
     "data": {
      "text/html": [
       "<div>\n",
       "<style scoped>\n",
       "    .dataframe tbody tr th:only-of-type {\n",
       "        vertical-align: middle;\n",
       "    }\n",
       "\n",
       "    .dataframe tbody tr th {\n",
       "        vertical-align: top;\n",
       "    }\n",
       "\n",
       "    .dataframe thead th {\n",
       "        text-align: right;\n",
       "    }\n",
       "</style>\n",
       "<table border=\"1\" class=\"dataframe\">\n",
       "  <thead>\n",
       "    <tr style=\"text-align: right;\">\n",
       "      <th></th>\n",
       "      <th>Banco</th>\n",
       "      <th>Eficiência DEA (CRS Input-oriented)</th>\n",
       "    </tr>\n",
       "  </thead>\n",
       "  <tbody>\n",
       "    <tr>\n",
       "      <th>0</th>\n",
       "      <td>BB</td>\n",
       "      <td>0.9962</td>\n",
       "    </tr>\n",
       "    <tr>\n",
       "      <th>1</th>\n",
       "      <td>Ita</td>\n",
       "      <td>0.9271</td>\n",
       "    </tr>\n",
       "    <tr>\n",
       "      <th>2</th>\n",
       "      <td>Santander</td>\n",
       "      <td>0.9954</td>\n",
       "    </tr>\n",
       "  </tbody>\n",
       "</table>\n",
       "</div>"
      ],
      "text/plain": [
       "       Banco  Eficiência DEA (CRS Input-oriented)\n",
       "0         BB                               0.9962\n",
       "1        Ita                               0.9271\n",
       "2  Santander                               0.9954"
      ]
     },
     "execution_count": 43,
     "metadata": {},
     "output_type": "execute_result"
    }
   ],
   "source": [
    "# Extrair o nome do banco (antes do \"_\") para nova coluna\n",
    "df_resultado[\"Banco\"] = df_resultado[\"DMU\"].str.extract(r\"(^[A-Za-z]+)\")\n",
    "\n",
    "# Agrupar por banco e tirar a média das eficiências\n",
    "media_por_banco = df_resultado.groupby(\"Banco\")[\"Eficiência DEA (CRS Input-oriented)\"].mean().reset_index()\n",
    "\n",
    "# Arredondar para 4 casas decimais\n",
    "media_por_banco[\"Eficiência DEA (CRS Input-oriented)\"] = media_por_banco[\"Eficiência DEA (CRS Input-oriented)\"].round(4)\n",
    "\n",
    "media_por_banco"
   ]
  }
 ],
 "metadata": {
  "kernelspec": {
   "display_name": "Python 3",
   "language": "python",
   "name": "python3"
  },
  "language_info": {
   "codemirror_mode": {
    "name": "ipython",
    "version": 3
   },
   "file_extension": ".py",
   "mimetype": "text/x-python",
   "name": "python",
   "nbconvert_exporter": "python",
   "pygments_lexer": "ipython3",
   "version": "3.13.2"
  }
 },
 "nbformat": 4,
 "nbformat_minor": 5
}
