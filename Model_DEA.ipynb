{
 "cells": [
  {
   "cell_type": "code",
   "execution_count": null,
   "id": "5f607c64",
   "metadata": {},
   "outputs": [],
   "source": [
    "# Esse codigo é um exemplo de como criar um ambiente virtual e instalar dependências em Python.\n",
    "#pip install -r requirements.txt"
   ]
  },
  {
   "cell_type": "code",
   "execution_count": null,
   "id": "41283bdc",
   "metadata": {},
   "outputs": [],
   "source": [
    "# PRECISA INSTALAR O PYTHON-TK PARA RODAR ESSE CÓDIGO\n",
    "# brew install python-tk"
   ]
  },
  {
   "cell_type": "code",
   "execution_count": 8,
   "id": "eed0c9fc",
   "metadata": {},
   "outputs": [],
   "source": [
    "# Bibliotecas necessárias\n",
    "import pandas as pd\n",
    "import json\n",
    "import cvxpy as cp\n",
    "\n",
    "\n"
   ]
  },
  {
   "cell_type": "code",
   "execution_count": 9,
   "id": "fc39190b",
   "metadata": {},
   "outputs": [],
   "source": [
    "df = pd.read_excel('Data.xlsx')"
   ]
  },
  {
   "cell_type": "code",
   "execution_count": 19,
   "id": "3bb9c029",
   "metadata": {},
   "outputs": [],
   "source": [
    "# Caminho do arquivo Excel\n",
    "excel_path = 'Data.xlsx'\n",
    "\n",
    "# Carregar a planilha (assumindo que os dados estão na primeira aba)\n",
    "df = pd.read_excel(excel_path)\n",
    "\n",
    "# Remover espaços extras dos nomes das colunas (isso resolve problemas de leitura)\n",
    "df.columns = df.columns.str.strip()\n",
    "\n",
    "# Criar uma coluna identificadora única para cada linha (DMU)\n",
    "df['DMU'] = df['Banco'] + '_' + df.index.astype(str)\n",
    "\n",
    "# Selecionar colunas no formato exigido pelo pyDEA\n",
    "df_dea = df[[\n",
    "    'DMU',\n",
    "    'Despesa de Intermediação Financeira',\n",
    "    'Despesa Administrativa e Operacionais',\n",
    "    'Receita de Intermediação Financeira',\n",
    "    'Receita com prestação de serviços',\n",
    "    'Outras receitas operacionais'\n",
    "]]\n",
    "\n"
   ]
  },
  {
   "cell_type": "code",
   "execution_count": 21,
   "id": "9162c832",
   "metadata": {},
   "outputs": [],
   "source": [
    "# Salvar em CSV\n",
    "df_dea.to_csv('dados_dea.csv', index=False)"
   ]
  },
  {
   "cell_type": "code",
   "execution_count": null,
   "id": "2c996639",
   "metadata": {},
   "outputs": [],
   "source": [
    "# Definir configurações do modelo DEA\n",
    "config = {\n",
    "    \"input_categories\": [\n",
    "        \"Despesa de Intermediação Financeira\",\n",
    "        \"Despesa Administrativa e Operacionais\"\n",
    "    ],\n",
    "    \"output_categories\": [\n",
    "        \"Receita de Intermediação Financeira\",\n",
    "        \"Receita com prestação de serviços\",\n",
    "        \"Outras receitas operacionais\"\n",
    "    ],\n",
    "    \"orientation\": \"input\",          # orientação a input (minimizar despesas)\n",
    "    \"returns_to_scale\": \"CRS\"        # Retornos constantes de escala\n",
    "}\n",
    "\n",
    "# Salvar em JSON\n",
    "with open('config_dea.json', 'w') as f:\n",
    "    json.dump(config, f, indent=4)"
   ]
  },
  {
   "cell_type": "code",
   "execution_count": null,
   "id": "338e7898",
   "metadata": {},
   "outputs": [],
   "source": []
  }
 ],
 "metadata": {
  "kernelspec": {
   "display_name": "Python 3",
   "language": "python",
   "name": "python3"
  },
  "language_info": {
   "codemirror_mode": {
    "name": "ipython",
    "version": 3
   },
   "file_extension": ".py",
   "mimetype": "text/x-python",
   "name": "python",
   "nbconvert_exporter": "python",
   "pygments_lexer": "ipython3",
   "version": "3.13.2"
  }
 },
 "nbformat": 4,
 "nbformat_minor": 5
}
